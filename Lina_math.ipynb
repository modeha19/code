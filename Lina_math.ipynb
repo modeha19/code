{
 "cells": [
  {
   "cell_type": "code",
   "execution_count": 9,
   "metadata": {},
   "outputs": [],
   "source": [
    "x=[1,2,3,4,5,6,7,8,9,10]\n",
    "i=0\n",
    "s=str(x[i])+\"-\\msquare=\"+str(x[i+1])+\" \\quad\"+ str(x[i+2])+\"-\\msquare=\"+str(x[i+3])+\" \\quad\" + str(x[i+4]) +\"-\\msquare=\"+str(x[i+5]) +\" \\quad\"+ str(x[i+6]) +\"-\\msquare=\"+str(x[i+7]) +\"\\quad\\\\\\\\\""
   ]
  },
  {
   "cell_type": "code",
   "execution_count": 10,
   "metadata": {},
   "outputs": [
    {
     "name": "stdout",
     "output_type": "stream",
     "text": [
      "2-\\msquare=3 \\quad4-\\msquare=5 \\quad6-\\msquare=7 \\quad8-\\msquare=9\\quad\\\\\n"
     ]
    }
   ],
   "source": [
    "print(s)"
   ]
  },
  {
   "cell_type": "code",
   "execution_count": 52,
   "metadata": {},
   "outputs": [],
   "source": [
    "def f(x,op):\n",
    "    i=0\n",
    "    s=str(x[i])+op+\"\\msquare=\"+str(x[i+1])+\" \\quad\"+ str(x[i+2])+op+\"\\msquare=\"+str(x[i+3])+\" \\quad\" + str(x[i+4]) +op+\"\\msquare=\"+str(x[i+5]) +\\\n",
    "        \" \\quad\"+ str(x[i+6]) +op+\"\\msquare=\"+str(x[i+7]) + \"\\quad\\\\\\\\\\\\\\\\\"\n",
    "    return s"
   ]
  },
  {
   "cell_type": "code",
   "execution_count": 63,
   "metadata": {},
   "outputs": [
    {
     "name": "stdout",
     "output_type": "stream",
     "text": [
      "[[17, 2, 10, 1, 18, 1, 10, 6], [20, 9, 12, 5, 12, 6, 15, 6], [13, 3, 13, 3, 17, 7, 10, 4], [20, 9, 17, 1, 12, 6, 12, 8], [15, 4, 17, 4, 18, 6, 14, 2], [14, 6, 18, 10, 19, 1, 12, 8], [14, 7, 19, 4, 14, 2, 15, 2], [14, 10, 13, 5, 19, 5, 19, 7], [12, 5, 20, 4, 13, 7, 10, 5], [14, 9, 20, 9, 11, 3, 13, 10], [16, 6, 14, 1, 12, 4, 19, 3], [12, 9, 15, 10, 15, 9, 15, 5], [10, 9, 14, 8, 14, 9, 16, 8], [18, 7, 16, 10, 19, 2, 11, 2], [11, 1, 14, 6, 14, 8, 15, 5], [15, 6, 20, 4, 13, 6, 15, 5], [10, 5, 20, 9, 17, 4, 20, 7], [11, 10, 19, 2, 14, 2, 18, 4], [20, 2, 20, 2, 15, 9, 15, 3], [12, 10, 13, 6, 10, 6, 15, 2], [14, 1, 16, 9, 13, 8, 18, 1], [15, 5, 13, 6, 20, 2, 18, 1], [18, 1, 19, 10, 18, 8, 10, 1], [18, 9, 17, 2, 14, 7, 19, 4], [18, 7, 13, 7, 12, 7, 20, 6], [20, 8, 15, 6, 17, 9, 12, 9], [11, 2, 20, 9, 17, 7, 18, 9], [16, 1, 16, 2, 17, 5, 13, 5], [12, 7, 13, 4, 17, 4, 19, 8], [18, 9, 13, 9, 10, 6, 16, 2], [19, 10, 13, 6, 17, 9, 16, 10], [20, 4, 18, 1, 19, 4, 13, 2], [18, 3, 18, 2, 19, 8, 20, 1], [15, 6, 19, 7, 16, 10, 10, 8], [10, 8, 11, 6, 13, 7, 16, 3], [19, 9, 19, 4, 19, 5, 13, 8], [13, 7, 12, 9, 20, 9, 14, 9], [10, 8, 16, 5, 14, 9, 15, 5], [11, 9, 18, 4, 18, 5, 11, 4], [14, 8, 15, 8, 20, 1, 20, 6], [15, 1, 10, 2, 14, 10, 10, 3], [14, 2, 18, 1, 13, 6, 11, 6], [11, 4, 10, 5, 16, 9, 16, 4], [19, 10, 13, 4, 19, 7, 13, 10], [20, 1, 10, 5, 13, 2, 16, 1], [11, 7, 14, 8, 11, 4, 15, 7], [15, 8, 13, 6, 18, 7, 16, 6], [11, 7, 19, 7, 17, 6, 15, 7], [12, 5, 14, 6, 13, 2, 13, 3], [19, 9, 12, 6, 19, 9, 18, 1], [20, 4, 14, 1, 15, 6, 18, 3], [17, 7, 19, 10, 13, 5, 17, 4], [18, 5, 15, 8, 20, 1, 10, 2], [14, 3, 13, 9, 13, 5, 10, 4], [14, 1, 18, 8, 17, 2, 11, 7], [11, 10, 19, 1, 15, 8, 14, 4], [18, 10, 16, 1, 15, 10, 11, 4], [17, 9, 10, 5, 18, 5, 20, 10], [16, 1, 18, 1, 16, 8, 11, 8], [16, 6, 18, 4, 20, 4, 20, 1], [14, 4, 11, 10, 17, 6, 10, 3], [15, 4, 14, 9, 18, 8, 11, 3], [19, 6, 17, 5, 16, 6, 12, 10], [12, 7, 17, 1, 11, 2, 11, 7], [15, 7, 12, 10, 18, 8, 16, 9], [20, 7, 16, 3, 17, 5, 11, 9], [16, 7, 18, 6, 11, 8, 13, 9], [14, 4, 10, 1, 20, 6, 11, 5], [17, 8, 20, 9, 16, 9, 15, 7], [19, 8, 15, 6, 12, 4, 15, 3], [20, 4, 10, 4, 19, 3, 17, 7], [12, 7, 13, 7, 14, 7, 20, 5], [10, 1, 15, 2, 15, 4, 20, 2], [15, 8, 13, 2, 16, 3, 10, 7], [10, 8, 12, 8, 18, 5, 19, 8], [10, 4, 14, 6, 16, 6, 19, 2], [19, 7, 13, 3, 17, 8, 10, 3], [20, 5, 10, 7, 17, 4, 19, 6], [19, 8, 15, 1, 19, 9, 19, 2], [15, 6, 18, 2, 17, 10, 15, 9], [20, 10, 13, 4, 10, 10, 15, 4], [10, 3, 13, 10, 13, 9, 10, 3], [16, 1, 10, 8, 14, 5, 20, 1], [12, 10, 16, 1, 11, 9, 19, 10], [13, 5, 15, 1, 15, 1, 20, 2], [14, 6, 12, 10, 13, 3, 14, 4], [18, 3, 16, 9, 15, 5, 14, 4], [18, 1, 12, 3, 18, 1, 17, 2], [19, 2, 18, 2, 12, 7, 16, 8], [18, 10, 17, 6, 19, 3, 14, 8], [19, 9, 12, 7, 17, 1, 15, 3], [12, 9, 11, 8, 12, 6, 14, 8], [19, 10, 10, 10, 13, 3, 13, 6], [19, 4, 17, 8, 17, 8, 19, 6], [18, 6, 20, 6, 14, 1, 17, 2], [16, 2, 15, 9, 12, 1, 12, 1], [12, 9, 20, 4, 19, 7, 17, 3], [13, 10, 11, 8, 15, 7, 18, 3], [14, 7, 17, 5, 14, 2, 13, 10], [20, 8, 14, 8, 19, 8, 10, 6], [12, 3, 14, 2, 12, 3, 19, 3], [13, 10, 15, 7, 12, 6, 15, 6], [19, 5, 13, 8, 18, 9, 18, 8], [19, 3, 18, 3, 12, 10, 14, 8], [15, 10, 12, 4, 13, 8, 17, 9], [20, 5, 10, 10, 16, 4, 10, 9], [17, 8, 18, 3, 17, 9, 14, 4], [11, 8, 11, 6, 20, 9, 18, 2], [14, 3, 11, 3, 10, 3, 14, 6], [11, 10, 12, 10, 10, 5, 12, 3], [13, 6, 20, 6, 20, 9, 18, 2], [19, 4, 15, 1, 13, 9, 13, 8], [15, 8, 12, 1, 19, 5, 16, 1], [18, 3, 16, 8, 11, 10, 12, 1], [18, 2, 18, 7, 19, 7, 12, 10], [16, 3, 19, 3, 18, 7, 12, 5], [15, 4, 15, 5, 20, 2, 13, 6], [12, 3, 19, 3, 20, 10, 10, 1], [15, 2, 20, 10, 18, 10, 13, 7], [19, 9, 11, 1, 18, 2, 11, 3]]\n"
     ]
    }
   ],
   "source": [
    "import random\n",
    "l=[]\n",
    "m=10#1\n",
    "n=20#10\n",
    "p=1#10\n",
    "q=10#20\n",
    "for i in range(120):\n",
    "    l.append([random.randint(m, n),random.randint(p, q),random.randint(m, n),random.randint(p, q),random.randint(m, n),\\\n",
    "        random.randint(p, q),random.randint(m, n),random.randint(p, q)])\n",
    "print(l)"
   ]
  },
  {
   "cell_type": "code",
   "execution_count": 62,
   "metadata": {},
   "outputs": [
    {
     "name": "stdout",
     "output_type": "stream",
     "text": [
      "20-\\msquare=5 \\quad13-\\msquare=8 \\quad18-\\msquare=4 \\quad10-\\msquare=5\\quad\\\\\\\\\n",
      "12-\\msquare=9 \\quad12-\\msquare=6 \\quad10-\\msquare=10 \\quad11-\\msquare=3\\quad\\\\\\\\\n",
      "10-\\msquare=5 \\quad19-\\msquare=6 \\quad11-\\msquare=9 \\quad19-\\msquare=10\\quad\\\\\\\\\n",
      "18-\\msquare=3 \\quad12-\\msquare=6 \\quad17-\\msquare=7 \\quad15-\\msquare=10\\quad\\\\\\\\\n",
      "20-\\msquare=4 \\quad19-\\msquare=1 \\quad20-\\msquare=9 \\quad12-\\msquare=7\\quad\\\\\\\\\n",
      "11-\\msquare=2 \\quad20-\\msquare=10 \\quad14-\\msquare=6 \\quad10-\\msquare=8\\quad\\\\\\\\\n",
      "11-\\msquare=7 \\quad12-\\msquare=3 \\quad10-\\msquare=5 \\quad17-\\msquare=6\\quad\\\\\\\\\n",
      "17-\\msquare=10 \\quad14-\\msquare=1 \\quad20-\\msquare=1 \\quad19-\\msquare=3\\quad\\\\\\\\\n",
      "12-\\msquare=2 \\quad13-\\msquare=10 \\quad17-\\msquare=3 \\quad18-\\msquare=3\\quad\\\\\\\\\n",
      "16-\\msquare=6 \\quad18-\\msquare=2 \\quad11-\\msquare=3 \\quad20-\\msquare=9\\quad\\\\\\\\\n",
      "18-\\msquare=4 \\quad20-\\msquare=5 \\quad12-\\msquare=5 \\quad20-\\msquare=10\\quad\\\\\\\\\n",
      "18-\\msquare=4 \\quad16-\\msquare=5 \\quad13-\\msquare=9 \\quad13-\\msquare=10\\quad\\\\\\\\\n",
      "20-\\msquare=9 \\quad19-\\msquare=6 \\quad17-\\msquare=10 \\quad18-\\msquare=4\\quad\\\\\\\\\n",
      "11-\\msquare=1 \\quad15-\\msquare=9 \\quad11-\\msquare=7 \\quad12-\\msquare=6\\quad\\\\\\\\\n",
      "14-\\msquare=7 \\quad15-\\msquare=2 \\quad17-\\msquare=7 \\quad11-\\msquare=8\\quad\\\\\\\\\n",
      "18-\\msquare=7 \\quad13-\\msquare=7 \\quad19-\\msquare=10 \\quad16-\\msquare=1\\quad\\\\\\\\\n",
      "17-\\msquare=9 \\quad11-\\msquare=3 \\quad14-\\msquare=2 \\quad17-\\msquare=6\\quad\\\\\\\\\n",
      "15-\\msquare=10 \\quad17-\\msquare=8 \\quad13-\\msquare=9 \\quad17-\\msquare=6\\quad\\\\\\\\\n",
      "16-\\msquare=4 \\quad20-\\msquare=7 \\quad10-\\msquare=4 \\quad12-\\msquare=6\\quad\\\\\\\\\n",
      "11-\\msquare=3 \\quad18-\\msquare=1 \\quad19-\\msquare=5 \\quad11-\\msquare=2\\quad\\\\\\\\\n",
      "18-\\msquare=2 \\quad11-\\msquare=6 \\quad13-\\msquare=8 \\quad17-\\msquare=1\\quad\\\\\\\\\n",
      "13-\\msquare=7 \\quad12-\\msquare=9 \\quad11-\\msquare=2 \\quad10-\\msquare=5\\quad\\\\\\\\\n",
      "18-\\msquare=6 \\quad10-\\msquare=6 \\quad20-\\msquare=9 \\quad10-\\msquare=4\\quad\\\\\\\\\n",
      "17-\\msquare=8 \\quad15-\\msquare=9 \\quad10-\\msquare=10 \\quad11-\\msquare=4\\quad\\\\\\\\\n",
      "19-\\msquare=2 \\quad18-\\msquare=8 \\quad20-\\msquare=6 \\quad16-\\msquare=2\\quad\\\\\\\\\n",
      "10-\\msquare=8 \\quad20-\\msquare=1 \\quad10-\\msquare=7 \\quad11-\\msquare=8\\quad\\\\\\\\\n",
      "17-\\msquare=10 \\quad17-\\msquare=4 \\quad10-\\msquare=6 \\quad20-\\msquare=9\\quad\\\\\\\\\n",
      "17-\\msquare=8 \\quad19-\\msquare=1 \\quad11-\\msquare=2 \\quad19-\\msquare=7\\quad\\\\\\\\\n",
      "18-\\msquare=1 \\quad20-\\msquare=9 \\quad16-\\msquare=4 \\quad13-\\msquare=6\\quad\\\\\\\\\n",
      "17-\\msquare=8 \\quad16-\\msquare=7 \\quad20-\\msquare=2 \\quad20-\\msquare=10\\quad\\\\\\\\\n",
      "20-\\msquare=4 \\quad18-\\msquare=2 \\quad16-\\msquare=2 \\quad15-\\msquare=1\\quad\\\\\\\\\n",
      "16-\\msquare=1 \\quad14-\\msquare=5 \\quad10-\\msquare=6 \\quad10-\\msquare=8\\quad\\\\\\\\\n",
      "17-\\msquare=10 \\quad15-\\msquare=3 \\quad14-\\msquare=9 \\quad18-\\msquare=9\\quad\\\\\\\\\n",
      "12-\\msquare=6 \\quad11-\\msquare=9 \\quad10-\\msquare=6 \\quad14-\\msquare=9\\quad\\\\\\\\\n",
      "14-\\msquare=7 \\quad11-\\msquare=6 \\quad19-\\msquare=3 \\quad11-\\msquare=3\\quad\\\\\\\\\n",
      "13-\\msquare=3 \\quad12-\\msquare=10 \\quad14-\\msquare=4 \\quad10-\\msquare=2\\quad\\\\\\\\\n",
      "20-\\msquare=4 \\quad18-\\msquare=2 \\quad13-\\msquare=7 \\quad10-\\msquare=3\\quad\\\\\\\\\n",
      "14-\\msquare=6 \\quad19-\\msquare=4 \\quad11-\\msquare=5 \\quad16-\\msquare=5\\quad\\\\\\\\\n",
      "17-\\msquare=5 \\quad17-\\msquare=6 \\quad19-\\msquare=9 \\quad10-\\msquare=3\\quad\\\\\\\\\n",
      "15-\\msquare=9 \\quad11-\\msquare=1 \\quad11-\\msquare=7 \\quad20-\\msquare=1\\quad\\\\\\\\\n",
      "20-\\msquare=9 \\quad14-\\msquare=9 \\quad13-\\msquare=9 \\quad16-\\msquare=1\\quad\\\\\\\\\n",
      "19-\\msquare=2 \\quad11-\\msquare=10 \\quad17-\\msquare=7 \\quad14-\\msquare=5\\quad\\\\\\\\\n",
      "13-\\msquare=3 \\quad12-\\msquare=8 \\quad19-\\msquare=4 \\quad10-\\msquare=2\\quad\\\\\\\\\n",
      "12-\\msquare=1 \\quad12-\\msquare=2 \\quad15-\\msquare=10 \\quad14-\\msquare=2\\quad\\\\\\\\\n",
      "14-\\msquare=5 \\quad14-\\msquare=1 \\quad15-\\msquare=1 \\quad11-\\msquare=3\\quad\\\\\\\\\n",
      "18-\\msquare=10 \\quad10-\\msquare=4 \\quad15-\\msquare=3 \\quad18-\\msquare=9\\quad\\\\\\\\\n",
      "18-\\msquare=6 \\quad12-\\msquare=2 \\quad16-\\msquare=10 \\quad16-\\msquare=9\\quad\\\\\\\\\n",
      "10-\\msquare=7 \\quad15-\\msquare=9 \\quad16-\\msquare=2 \\quad20-\\msquare=3\\quad\\\\\\\\\n",
      "11-\\msquare=2 \\quad16-\\msquare=2 \\quad15-\\msquare=9 \\quad10-\\msquare=2\\quad\\\\\\\\\n",
      "11-\\msquare=10 \\quad14-\\msquare=5 \\quad16-\\msquare=10 \\quad16-\\msquare=9\\quad\\\\\\\\\n",
      "15-\\msquare=5 \\quad12-\\msquare=8 \\quad14-\\msquare=9 \\quad17-\\msquare=8\\quad\\\\\\\\\n",
      "19-\\msquare=5 \\quad12-\\msquare=7 \\quad19-\\msquare=10 \\quad11-\\msquare=2\\quad\\\\\\\\\n",
      "11-\\msquare=10 \\quad20-\\msquare=5 \\quad11-\\msquare=2 \\quad13-\\msquare=1\\quad\\\\\\\\\n",
      "11-\\msquare=8 \\quad14-\\msquare=1 \\quad12-\\msquare=3 \\quad13-\\msquare=3\\quad\\\\\\\\\n",
      "14-\\msquare=9 \\quad10-\\msquare=5 \\quad13-\\msquare=7 \\quad11-\\msquare=10\\quad\\\\\\\\\n",
      "13-\\msquare=6 \\quad12-\\msquare=10 \\quad14-\\msquare=5 \\quad11-\\msquare=5\\quad\\\\\\\\\n",
      "11-\\msquare=9 \\quad11-\\msquare=2 \\quad14-\\msquare=7 \\quad14-\\msquare=3\\quad\\\\\\\\\n",
      "12-\\msquare=4 \\quad11-\\msquare=4 \\quad15-\\msquare=10 \\quad13-\\msquare=1\\quad\\\\\\\\\n",
      "20-\\msquare=7 \\quad14-\\msquare=9 \\quad15-\\msquare=8 \\quad12-\\msquare=9\\quad\\\\\\\\\n",
      "12-\\msquare=5 \\quad11-\\msquare=8 \\quad12-\\msquare=3 \\quad14-\\msquare=1\\quad\\\\\\\\\n",
      "14-\\msquare=10 \\quad12-\\msquare=8 \\quad15-\\msquare=3 \\quad17-\\msquare=9\\quad\\\\\\\\\n",
      "16-\\msquare=7 \\quad17-\\msquare=10 \\quad17-\\msquare=8 \\quad12-\\msquare=8\\quad\\\\\\\\\n",
      "11-\\msquare=7 \\quad19-\\msquare=10 \\quad20-\\msquare=2 \\quad13-\\msquare=7\\quad\\\\\\\\\n",
      "16-\\msquare=1 \\quad13-\\msquare=10 \\quad14-\\msquare=1 \\quad11-\\msquare=4\\quad\\\\\\\\\n",
      "13-\\msquare=6 \\quad15-\\msquare=4 \\quad11-\\msquare=4 \\quad15-\\msquare=1\\quad\\\\\\\\\n",
      "19-\\msquare=1 \\quad20-\\msquare=5 \\quad17-\\msquare=7 \\quad10-\\msquare=4\\quad\\\\\\\\\n",
      "13-\\msquare=4 \\quad11-\\msquare=6 \\quad19-\\msquare=7 \\quad11-\\msquare=8\\quad\\\\\\\\\n",
      "11-\\msquare=6 \\quad16-\\msquare=8 \\quad16-\\msquare=4 \\quad11-\\msquare=5\\quad\\\\\\\\\n",
      "12-\\msquare=1 \\quad13-\\msquare=3 \\quad13-\\msquare=8 \\quad17-\\msquare=4\\quad\\\\\\\\\n",
      "19-\\msquare=10 \\quad16-\\msquare=8 \\quad12-\\msquare=8 \\quad10-\\msquare=8\\quad\\\\\\\\\n",
      "10-\\msquare=9 \\quad18-\\msquare=4 \\quad17-\\msquare=5 \\quad10-\\msquare=4\\quad\\\\\\\\\n",
      "16-\\msquare=4 \\quad13-\\msquare=1 \\quad16-\\msquare=2 \\quad15-\\msquare=3\\quad\\\\\\\\\n",
      "16-\\msquare=9 \\quad12-\\msquare=7 \\quad18-\\msquare=3 \\quad19-\\msquare=7\\quad\\\\\\\\\n",
      "11-\\msquare=2 \\quad19-\\msquare=5 \\quad12-\\msquare=5 \\quad18-\\msquare=8\\quad\\\\\\\\\n",
      "16-\\msquare=7 \\quad13-\\msquare=10 \\quad15-\\msquare=7 \\quad13-\\msquare=3\\quad\\\\\\\\\n",
      "18-\\msquare=10 \\quad19-\\msquare=8 \\quad16-\\msquare=8 \\quad11-\\msquare=1\\quad\\\\\\\\\n",
      "14-\\msquare=10 \\quad14-\\msquare=7 \\quad11-\\msquare=6 \\quad20-\\msquare=6\\quad\\\\\\\\\n",
      "10-\\msquare=8 \\quad20-\\msquare=5 \\quad20-\\msquare=10 \\quad11-\\msquare=3\\quad\\\\\\\\\n",
      "11-\\msquare=8 \\quad11-\\msquare=1 \\quad19-\\msquare=6 \\quad18-\\msquare=4\\quad\\\\\\\\\n",
      "12-\\msquare=8 \\quad12-\\msquare=5 \\quad16-\\msquare=2 \\quad16-\\msquare=10\\quad\\\\\\\\\n",
      "13-\\msquare=1 \\quad10-\\msquare=6 \\quad14-\\msquare=5 \\quad18-\\msquare=7\\quad\\\\\\\\\n",
      "15-\\msquare=6 \\quad18-\\msquare=1 \\quad15-\\msquare=9 \\quad13-\\msquare=6\\quad\\\\\\\\\n",
      "20-\\msquare=7 \\quad11-\\msquare=1 \\quad10-\\msquare=7 \\quad12-\\msquare=10\\quad\\\\\\\\\n",
      "15-\\msquare=5 \\quad18-\\msquare=6 \\quad13-\\msquare=8 \\quad10-\\msquare=7\\quad\\\\\\\\\n",
      "18-\\msquare=5 \\quad20-\\msquare=9 \\quad15-\\msquare=1 \\quad16-\\msquare=3\\quad\\\\\\\\\n",
      "19-\\msquare=5 \\quad19-\\msquare=8 \\quad20-\\msquare=4 \\quad10-\\msquare=2\\quad\\\\\\\\\n",
      "13-\\msquare=5 \\quad20-\\msquare=3 \\quad15-\\msquare=8 \\quad14-\\msquare=10\\quad\\\\\\\\\n",
      "15-\\msquare=1 \\quad13-\\msquare=1 \\quad14-\\msquare=9 \\quad12-\\msquare=2\\quad\\\\\\\\\n",
      "20-\\msquare=9 \\quad18-\\msquare=1 \\quad19-\\msquare=5 \\quad16-\\msquare=7\\quad\\\\\\\\\n",
      "10-\\msquare=1 \\quad10-\\msquare=1 \\quad12-\\msquare=6 \\quad17-\\msquare=10\\quad\\\\\\\\\n",
      "17-\\msquare=5 \\quad16-\\msquare=3 \\quad10-\\msquare=1 \\quad11-\\msquare=6\\quad\\\\\\\\\n",
      "17-\\msquare=6 \\quad11-\\msquare=8 \\quad16-\\msquare=8 \\quad14-\\msquare=2\\quad\\\\\\\\\n",
      "10-\\msquare=1 \\quad14-\\msquare=7 \\quad17-\\msquare=3 \\quad12-\\msquare=7\\quad\\\\\\\\\n",
      "18-\\msquare=10 \\quad13-\\msquare=1 \\quad18-\\msquare=10 \\quad15-\\msquare=10\\quad\\\\\\\\\n",
      "18-\\msquare=10 \\quad13-\\msquare=5 \\quad13-\\msquare=6 \\quad14-\\msquare=2\\quad\\\\\\\\\n",
      "12-\\msquare=5 \\quad16-\\msquare=4 \\quad12-\\msquare=6 \\quad12-\\msquare=8\\quad\\\\\\\\\n",
      "16-\\msquare=3 \\quad12-\\msquare=4 \\quad17-\\msquare=2 \\quad16-\\msquare=9\\quad\\\\\\\\\n",
      "15-\\msquare=3 \\quad18-\\msquare=7 \\quad11-\\msquare=6 \\quad11-\\msquare=7\\quad\\\\\\\\\n",
      "12-\\msquare=9 \\quad14-\\msquare=10 \\quad15-\\msquare=4 \\quad15-\\msquare=4\\quad\\\\\\\\\n",
      "16-\\msquare=4 \\quad15-\\msquare=6 \\quad17-\\msquare=9 \\quad15-\\msquare=5\\quad\\\\\\\\\n",
      "15-\\msquare=9 \\quad18-\\msquare=4 \\quad18-\\msquare=4 \\quad18-\\msquare=7\\quad\\\\\\\\\n",
      "16-\\msquare=2 \\quad15-\\msquare=5 \\quad12-\\msquare=5 \\quad18-\\msquare=6\\quad\\\\\\\\\n",
      "14-\\msquare=7 \\quad13-\\msquare=4 \\quad15-\\msquare=2 \\quad18-\\msquare=8\\quad\\\\\\\\\n",
      "13-\\msquare=5 \\quad16-\\msquare=1 \\quad11-\\msquare=10 \\quad18-\\msquare=7\\quad\\\\\\\\\n",
      "18-\\msquare=2 \\quad18-\\msquare=1 \\quad15-\\msquare=8 \\quad14-\\msquare=1\\quad\\\\\\\\\n",
      "16-\\msquare=9 \\quad12-\\msquare=3 \\quad17-\\msquare=5 \\quad19-\\msquare=3\\quad\\\\\\\\\n",
      "15-\\msquare=1 \\quad20-\\msquare=5 \\quad19-\\msquare=5 \\quad18-\\msquare=7\\quad\\\\\\\\\n",
      "14-\\msquare=4 \\quad15-\\msquare=2 \\quad18-\\msquare=6 \\quad19-\\msquare=6\\quad\\\\\\\\\n",
      "15-\\msquare=6 \\quad15-\\msquare=7 \\quad12-\\msquare=1 \\quad20-\\msquare=3\\quad\\\\\\\\\n",
      "13-\\msquare=7 \\quad13-\\msquare=7 \\quad17-\\msquare=2 \\quad17-\\msquare=4\\quad\\\\\\\\\n",
      "15-\\msquare=8 \\quad11-\\msquare=4 \\quad19-\\msquare=9 \\quad14-\\msquare=2\\quad\\\\\\\\\n",
      "19-\\msquare=8 \\quad12-\\msquare=3 \\quad18-\\msquare=3 \\quad14-\\msquare=3\\quad\\\\\\\\\n",
      "17-\\msquare=1 \\quad19-\\msquare=8 \\quad13-\\msquare=9 \\quad14-\\msquare=4\\quad\\\\\\\\\n",
      "12-\\msquare=1 \\quad14-\\msquare=6 \\quad11-\\msquare=2 \\quad16-\\msquare=1\\quad\\\\\\\\\n",
      "18-\\msquare=7 \\quad19-\\msquare=6 \\quad19-\\msquare=9 \\quad20-\\msquare=8\\quad\\\\\\\\\n",
      "15-\\msquare=1 \\quad11-\\msquare=7 \\quad18-\\msquare=7 \\quad16-\\msquare=7\\quad\\\\\\\\\n",
      "16-\\msquare=2 \\quad13-\\msquare=6 \\quad15-\\msquare=1 \\quad20-\\msquare=3\\quad\\\\\\\\\n",
      "15-\\msquare=5 \\quad13-\\msquare=1 \\quad10-\\msquare=8 \\quad11-\\msquare=1\\quad\\\\\\\\\n",
      "17-\\msquare=10 \\quad18-\\msquare=1 \\quad14-\\msquare=1 \\quad11-\\msquare=6\\quad\\\\\\\\\n",
      "14-\\msquare=6 \\quad14-\\msquare=5 \\quad15-\\msquare=3 \\quad15-\\msquare=2\\quad\\\\\\\\\n"
     ]
    }
   ],
   "source": [
    "for i in l:\n",
    "    print(f(i,\"-\"))"
   ]
  }
 ],
 "metadata": {
  "kernelspec": {
   "display_name": "Python 3",
   "language": "python",
   "name": "python3"
  },
  "language_info": {
   "codemirror_mode": {
    "name": "ipython",
    "version": 3
   },
   "file_extension": ".py",
   "mimetype": "text/x-python",
   "name": "python",
   "nbconvert_exporter": "python",
   "pygments_lexer": "ipython3",
   "version": "3.11.0 (main, Oct 25 2022, 14:13:24) [Clang 14.0.0 (clang-1400.0.29.202)]"
  },
  "orig_nbformat": 4,
  "vscode": {
   "interpreter": {
    "hash": "1a1af0ee75eeea9e2e1ee996c87e7a2b11a0bebd85af04bb136d915cefc0abce"
   }
  }
 },
 "nbformat": 4,
 "nbformat_minor": 2
}
